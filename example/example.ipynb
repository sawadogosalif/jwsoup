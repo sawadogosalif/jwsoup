{
 "cells": [
  {
   "cell_type": "code",
   "execution_count": 1,
   "metadata": {},
   "outputs": [],
   "source": [
    "from jwsoup.text import scrape_single_page, scrape_multi_page"
   ]
  },
  {
   "cell_type": "code",
   "execution_count": 2,
   "metadata": {},
   "outputs": [
    {
     "data": {
      "text/plain": [
       "[('v1001001', '1 Sɩngr wakatẽ, Wẽnnaam naana saasã la tẽngã. +'),\n",
       " ('v1001002',\n",
       "  '2 Tẽngã ra pa tar yalẽ ye. A ra yaa vɩʋʋgo, tɩ lik ra be koomã sẽn zulmã * zugu. + La Wẽnnaam pãngã  ra fugda koomã zugu. +'),\n",
       " ('v1001003', '3 Wẽnnaam yeelame: “Bɩ vẽenem zĩndi.” La vẽenem zĩndame. +'),\n",
       " ('v1001004',\n",
       "  '4 Rẽ poore, Wẽnnaam yãame tɩ vẽenemã yaa sõma, t’a sɩng n na n welg vẽenemã ne likã.'),\n",
       " ('v1001005',\n",
       "  '5 Wẽnnaam boola vẽenemã tɩ Wĩndga, la a bool likã tɩ Yʋngo. + La zaabr zĩndame, tɩ yibeoog zĩndi: Yaa pipi daare.'),\n",
       " ('v1001006',\n",
       "  '6 Rẽ poore, Wẽnnaam yeelame: “Bɩ vɩʋʋg + zĩnd ko-rãmbã sʋka, la bɩ a welg ko-rãmbã ne taaba.” +'),\n",
       " ('v1001007',\n",
       "  '7 Dẽ, Wẽnnaam maana vɩʋʋgã, n welg koom ning sẽn be vɩʋʋgã tẽngrã, ne koom ning sẽn be vɩʋʋgã zugẽ wã. + La yɩɩ woto.'),\n",
       " ('v1001008',\n",
       "  '8 Wẽnnaam boola vɩʋʋgã tɩ Saaga. * La zaabr zĩndame, tɩ yibeoog zĩndi: Yaa rasem a yiib-n-soaba.'),\n",
       " ('v1001009',\n",
       "  '9 Rẽ poore, Wẽnnaam yeelame: “Bɩ koom ning sẽn be saasã tẽngrã naag taab zĩig a ye, la bɩ tẽn-koɛɛngã puki.” + La yɩɩ woto.'),\n",
       " ('v1001010',\n",
       "  '10 Wẽnnaam boola tẽn-koɛɛngã tɩ Tẽnga, + la a bool koomã sẽn naag taabã tɩ Mogre. + La Wẽnnaam yãame tɩ rẽ yaa sõma. +'),\n",
       " ('v1001011',\n",
       "  '11 Dẽ, Wẽnnaam yeelame: “Bɩ mood yi tẽngã zugu, n paas mood sẽn womd biisi. Bɩ tɩɩs me sẽn womd biis sẽn tar bõn-buud wa sẽn zems b buud yi tẽngã zugu.” La yɩɩ woto.'),\n",
       " ('v1001012',\n",
       "  '12 La moodo, ne mood sẽn womd biisi, n paas tɩɩs sẽn womd biis sẽn tar bõn-buud + wa sẽn zems b buud sɩngame n yit tẽngã zugu. La Wẽnnaam yãame tɩ rẽ yaa sõma.'),\n",
       " ('v1001013',\n",
       "  '13 La zaabr zĩndame, tɩ yibeoog zĩndi: Yaa rasem a tãab-n-soaba.'),\n",
       " ('v1001014',\n",
       "  '14 Rẽ poore, Wẽnnaam yeelame: “Bɩ bũmb toor-toor sẽn kõt vẽenem + zĩnd saasẽ, n welg wĩntoogã ne yʋngã, + la b yɩ bãn sẽn wilgd wakatã, * rayã la yʋʋmã. +'),\n",
       " ('v1001015',\n",
       "  '15 B na n zĩnda saasẽ n yãgd n kõt tẽngã vẽenem.” La yɩɩ woto.'),\n",
       " ('v1001016',\n",
       "  '16 La Wẽnnaam maana bõn-bɛd a yiibã sẽn kõt vẽenemã. A maana sẽn yaa-a bedr n yɩɩdã sẽn na yɩl t’a soog wĩntoogo, + la sẽn yaa-a bilfã sẽn na yɩl t’a soog yʋngo. A maana ãdsã me. +'),\n",
       " ('v1001017', '17 Dẽ, Wẽnnaam ning-b-la saasẽ tɩ b kõt tẽngã vẽenem'),\n",
       " ('v1001018',\n",
       "  '18 la b soog wĩntoogã ne yʋngã, la a kɩt tɩ welgr zĩnd vẽenemã ne likã sʋka. + La Wẽnnaam yãame tɩ rẽ yaa sõma.'),\n",
       " ('v1001019',\n",
       "  '19 La zaabr zĩndame, tɩ yibeoog zĩndi: Yaa rasem a naas-n-soaba.'),\n",
       " ('v1001020',\n",
       "  '20 Rẽ poore, Wẽnnaam yeelame: “Bɩ koomã pid ne bõn-vɩɩse, * tɩ bõn-yɩgdɩ me yɩgd tẽngã zug n pɩʋʋgd saasẽ.” +'),\n",
       " ('v1001021',\n",
       "  '21 Wẽnnaam naana mogrã pʋgẽ bõn-bɛdã, * la bõn-vɩɩs * nins fãa sẽn saagd koomẽ la sẽn tũud-b taab wʋsgã wa sẽn zems b buudu, n paas bõn-yɩgdɩ wã sẽn tar pɩgsã buud fãa wa sẽn zems b buudu. La Wẽnnaam yãame tɩ rẽ yaa sõma.'),\n",
       " ('v1001022',\n",
       "  '22 Dẽ, Wẽnnaam ning-b-la barka, n yeele: “Rog-y kamb n lebg wʋsgo, n pid mogrã koomã. + La bɩ bõn-yɩgdɩ wã me lebg wʋsg tẽngã zugu.”'),\n",
       " ('v1001023', '23 La zaabr zĩndame, tɩ yibeoog zĩndi: Yaa rasem a nu soaba.'),\n",
       " ('v1001024',\n",
       "  '24 Rẽ poore, Wẽnnaam yeelame: “Bɩ tẽngã pid ne bõn-vɩɩs * wa sẽn zems b buudu: Yir dũms la bõn-vuudsi, * la we-rũms wa sẽn zems b buudu.” + La yɩɩ woto.'),\n",
       " ('v1001025',\n",
       "  '25 La Wẽnnaam maana we-rũmsã wa sẽn zems b buudu, yir dũmsã wa sẽn zems b buudu, la bõn-vuudsã wa sẽn zems b buudu. La Wẽnnaam yãame tɩ rẽ yaa sõma.'),\n",
       " ('v1001026',\n",
       "  '26 Rẽ poore, Wẽnnaam yeelame: “Bɩ d + maan ninsaal n wõneg d mense, + t’a yɩ wa tõndo. + La bɩ a * soog zĩmã sẽn be mogrã pʋgẽ wã, bõn-yɩgdɩ wã sẽn yɩgd yĩngrã, yir dũmsã, tẽngã fãa, la bõn-vuudsã sẽn vuud tẽngã zugã.” +'),\n",
       " ('v1001027',\n",
       "  '27 Dẽ, Wẽnnaam naana ninsaal n wõneg a menga. Wẽnnaam naan-a lame n wõneg yẽ mengã. A naana bãmb raoa, la paga. +'),\n",
       " ('v1001028',\n",
       "  '28 Sẽn paase, Wẽnnaam ning-b-la barka, la a yeel-ba: “Bɩ y rog kamb n lebg wʋsgo, n pid tẽngã + la y soog-a. + Soog-y + zĩmã sẽn be mogrã pʋgẽ wã, bõn-yɩgdɩ wã sẽn yɩgd yĩngrã, la bõn-vɩɩs buud fãa sẽn kẽnd tẽngã zugã.”'),\n",
       " ('v1001029',\n",
       "  '29 Rẽ poore, Wẽnnaam yeelame: “Ade! Mam kõo yãmb mood buud fãa sẽn be tẽngã gill zug n womd biisi, la tɩɩs buud fãa sẽn womd biis sẽn tar bõn-buudu. Bɩ rẽ yɩ yãmb rɩɩbo. +'),\n",
       " ('v1001030',\n",
       "  '30 La sã n yaa ne we-rũmsã buud fãa, bõn-yɩgdɩ buud fãa sẽn yɩgd yĩngrã, la bõn-vɩɩs nins fãa sẽn kẽnd tẽngã zugã, mam kõ-b-la mo-maasã fãa tɩ na n yɩ b rɩɩbo.” + La yɩɩ woto.'),\n",
       " ('v1001031',\n",
       "  '31 Rẽ poore, Wẽnnaam gesa bũmb nins fãa a sẽn maanã, la a yãame tɩ ra yaa sõma wʋsgo. + La zaabr zĩndame, tɩ yibeoog zĩndi: Yaa rasem a yoob-n-soaba.')]"
      ]
     },
     "execution_count": 2,
     "metadata": {},
     "output_type": "execute_result"
    }
   ],
   "source": [
    "\n",
    "url = \"https://www.jw.org/mos/d-s%E1%BA%BDn-yiisi/biible/nwt/books/S%C9%A9ngre/1/\"\n",
    "verses, next_url = scrape_single_page(url)\n",
    "verses"
   ]
  },
  {
   "cell_type": "code",
   "execution_count": null,
   "metadata": {},
   "outputs": [
    {
     "name": "stderr",
     "output_type": "stream",
     "text": [
      "\u001b[32m2024-11-23 15:35:36.349\u001b[0m | \u001b[1mINFO    \u001b[0m | \u001b[36mjwsoup.text.scraper\u001b[0m:\u001b[36mscrape_multi_page\u001b[0m:\u001b[36m59\u001b[0m - \u001b[1mScraping https://www.jw.org/mos/d-s%E1%BA%BDn-yiisi/biible/nwt/books/S%C9%A9ngre/1/\u001b[0m\n"
     ]
    }
   ],
   "source": [
    "output_dir = \"bible_data_moore.parquet\"\n",
    "res = scrape_multi_page(url, output_dir=output_dir, max_pages=5, page_sep=\"books\")"
   ]
  },
  {
   "cell_type": "code",
   "execution_count": null,
   "metadata": {},
   "outputs": [
    {
     "ename": "FileNotFoundError",
     "evalue": "[Errno 2] No such file or directory: 'bible_data_moore.parquet'",
     "output_type": "error",
     "traceback": [
      "\u001b[1;31m---------------------------------------------------------------------------\u001b[0m",
      "\u001b[1;31mFileNotFoundError\u001b[0m                         Traceback (most recent call last)",
      "Cell \u001b[1;32mIn[4], line 2\u001b[0m\n\u001b[0;32m      1\u001b[0m \u001b[38;5;28;01mimport\u001b[39;00m \u001b[38;5;21;01mpandas\u001b[39;00m \u001b[38;5;28;01mas\u001b[39;00m \u001b[38;5;21;01mpd\u001b[39;00m\n\u001b[1;32m----> 2\u001b[0m \u001b[43mpd\u001b[49m\u001b[38;5;241;43m.\u001b[39;49m\u001b[43mread_parquet\u001b[49m\u001b[43m(\u001b[49m\u001b[43moutput_dir\u001b[49m\u001b[43m)\u001b[49m\u001b[38;5;241m.\u001b[39mtail(\u001b[38;5;241m5\u001b[39m)\n",
      "File \u001b[1;32m~\\AppData\\Local\\Packages\\PythonSoftwareFoundation.Python.3.12_qbz5n2kfra8p0\\LocalCache\\local-packages\\Python312\\site-packages\\pandas\\io\\parquet.py:667\u001b[0m, in \u001b[0;36mread_parquet\u001b[1;34m(path, engine, columns, storage_options, use_nullable_dtypes, dtype_backend, filesystem, filters, **kwargs)\u001b[0m\n\u001b[0;32m    664\u001b[0m     use_nullable_dtypes \u001b[38;5;241m=\u001b[39m \u001b[38;5;28;01mFalse\u001b[39;00m\n\u001b[0;32m    665\u001b[0m check_dtype_backend(dtype_backend)\n\u001b[1;32m--> 667\u001b[0m \u001b[38;5;28;01mreturn\u001b[39;00m \u001b[43mimpl\u001b[49m\u001b[38;5;241;43m.\u001b[39;49m\u001b[43mread\u001b[49m\u001b[43m(\u001b[49m\n\u001b[0;32m    668\u001b[0m \u001b[43m    \u001b[49m\u001b[43mpath\u001b[49m\u001b[43m,\u001b[49m\n\u001b[0;32m    669\u001b[0m \u001b[43m    \u001b[49m\u001b[43mcolumns\u001b[49m\u001b[38;5;241;43m=\u001b[39;49m\u001b[43mcolumns\u001b[49m\u001b[43m,\u001b[49m\n\u001b[0;32m    670\u001b[0m \u001b[43m    \u001b[49m\u001b[43mfilters\u001b[49m\u001b[38;5;241;43m=\u001b[39;49m\u001b[43mfilters\u001b[49m\u001b[43m,\u001b[49m\n\u001b[0;32m    671\u001b[0m \u001b[43m    \u001b[49m\u001b[43mstorage_options\u001b[49m\u001b[38;5;241;43m=\u001b[39;49m\u001b[43mstorage_options\u001b[49m\u001b[43m,\u001b[49m\n\u001b[0;32m    672\u001b[0m \u001b[43m    \u001b[49m\u001b[43muse_nullable_dtypes\u001b[49m\u001b[38;5;241;43m=\u001b[39;49m\u001b[43muse_nullable_dtypes\u001b[49m\u001b[43m,\u001b[49m\n\u001b[0;32m    673\u001b[0m \u001b[43m    \u001b[49m\u001b[43mdtype_backend\u001b[49m\u001b[38;5;241;43m=\u001b[39;49m\u001b[43mdtype_backend\u001b[49m\u001b[43m,\u001b[49m\n\u001b[0;32m    674\u001b[0m \u001b[43m    \u001b[49m\u001b[43mfilesystem\u001b[49m\u001b[38;5;241;43m=\u001b[39;49m\u001b[43mfilesystem\u001b[49m\u001b[43m,\u001b[49m\n\u001b[0;32m    675\u001b[0m \u001b[43m    \u001b[49m\u001b[38;5;241;43m*\u001b[39;49m\u001b[38;5;241;43m*\u001b[39;49m\u001b[43mkwargs\u001b[49m\u001b[43m,\u001b[49m\n\u001b[0;32m    676\u001b[0m \u001b[43m\u001b[49m\u001b[43m)\u001b[49m\n",
      "File \u001b[1;32m~\\AppData\\Local\\Packages\\PythonSoftwareFoundation.Python.3.12_qbz5n2kfra8p0\\LocalCache\\local-packages\\Python312\\site-packages\\pandas\\io\\parquet.py:267\u001b[0m, in \u001b[0;36mPyArrowImpl.read\u001b[1;34m(self, path, columns, filters, use_nullable_dtypes, dtype_backend, storage_options, filesystem, **kwargs)\u001b[0m\n\u001b[0;32m    264\u001b[0m \u001b[38;5;28;01mif\u001b[39;00m manager \u001b[38;5;241m==\u001b[39m \u001b[38;5;124m\"\u001b[39m\u001b[38;5;124marray\u001b[39m\u001b[38;5;124m\"\u001b[39m:\n\u001b[0;32m    265\u001b[0m     to_pandas_kwargs[\u001b[38;5;124m\"\u001b[39m\u001b[38;5;124msplit_blocks\u001b[39m\u001b[38;5;124m\"\u001b[39m] \u001b[38;5;241m=\u001b[39m \u001b[38;5;28;01mTrue\u001b[39;00m  \u001b[38;5;66;03m# type: ignore[assignment]\u001b[39;00m\n\u001b[1;32m--> 267\u001b[0m path_or_handle, handles, filesystem \u001b[38;5;241m=\u001b[39m \u001b[43m_get_path_or_handle\u001b[49m\u001b[43m(\u001b[49m\n\u001b[0;32m    268\u001b[0m \u001b[43m    \u001b[49m\u001b[43mpath\u001b[49m\u001b[43m,\u001b[49m\n\u001b[0;32m    269\u001b[0m \u001b[43m    \u001b[49m\u001b[43mfilesystem\u001b[49m\u001b[43m,\u001b[49m\n\u001b[0;32m    270\u001b[0m \u001b[43m    \u001b[49m\u001b[43mstorage_options\u001b[49m\u001b[38;5;241;43m=\u001b[39;49m\u001b[43mstorage_options\u001b[49m\u001b[43m,\u001b[49m\n\u001b[0;32m    271\u001b[0m \u001b[43m    \u001b[49m\u001b[43mmode\u001b[49m\u001b[38;5;241;43m=\u001b[39;49m\u001b[38;5;124;43m\"\u001b[39;49m\u001b[38;5;124;43mrb\u001b[39;49m\u001b[38;5;124;43m\"\u001b[39;49m\u001b[43m,\u001b[49m\n\u001b[0;32m    272\u001b[0m \u001b[43m\u001b[49m\u001b[43m)\u001b[49m\n\u001b[0;32m    273\u001b[0m \u001b[38;5;28;01mtry\u001b[39;00m:\n\u001b[0;32m    274\u001b[0m     pa_table \u001b[38;5;241m=\u001b[39m \u001b[38;5;28mself\u001b[39m\u001b[38;5;241m.\u001b[39mapi\u001b[38;5;241m.\u001b[39mparquet\u001b[38;5;241m.\u001b[39mread_table(\n\u001b[0;32m    275\u001b[0m         path_or_handle,\n\u001b[0;32m    276\u001b[0m         columns\u001b[38;5;241m=\u001b[39mcolumns,\n\u001b[1;32m   (...)\u001b[0m\n\u001b[0;32m    279\u001b[0m         \u001b[38;5;241m*\u001b[39m\u001b[38;5;241m*\u001b[39mkwargs,\n\u001b[0;32m    280\u001b[0m     )\n",
      "File \u001b[1;32m~\\AppData\\Local\\Packages\\PythonSoftwareFoundation.Python.3.12_qbz5n2kfra8p0\\LocalCache\\local-packages\\Python312\\site-packages\\pandas\\io\\parquet.py:140\u001b[0m, in \u001b[0;36m_get_path_or_handle\u001b[1;34m(path, fs, storage_options, mode, is_dir)\u001b[0m\n\u001b[0;32m    130\u001b[0m handles \u001b[38;5;241m=\u001b[39m \u001b[38;5;28;01mNone\u001b[39;00m\n\u001b[0;32m    131\u001b[0m \u001b[38;5;28;01mif\u001b[39;00m (\n\u001b[0;32m    132\u001b[0m     \u001b[38;5;129;01mnot\u001b[39;00m fs\n\u001b[0;32m    133\u001b[0m     \u001b[38;5;129;01mand\u001b[39;00m \u001b[38;5;129;01mnot\u001b[39;00m is_dir\n\u001b[1;32m   (...)\u001b[0m\n\u001b[0;32m    138\u001b[0m     \u001b[38;5;66;03m# fsspec resources can also point to directories\u001b[39;00m\n\u001b[0;32m    139\u001b[0m     \u001b[38;5;66;03m# this branch is used for example when reading from non-fsspec URLs\u001b[39;00m\n\u001b[1;32m--> 140\u001b[0m     handles \u001b[38;5;241m=\u001b[39m \u001b[43mget_handle\u001b[49m\u001b[43m(\u001b[49m\n\u001b[0;32m    141\u001b[0m \u001b[43m        \u001b[49m\u001b[43mpath_or_handle\u001b[49m\u001b[43m,\u001b[49m\u001b[43m \u001b[49m\u001b[43mmode\u001b[49m\u001b[43m,\u001b[49m\u001b[43m \u001b[49m\u001b[43mis_text\u001b[49m\u001b[38;5;241;43m=\u001b[39;49m\u001b[38;5;28;43;01mFalse\u001b[39;49;00m\u001b[43m,\u001b[49m\u001b[43m \u001b[49m\u001b[43mstorage_options\u001b[49m\u001b[38;5;241;43m=\u001b[39;49m\u001b[43mstorage_options\u001b[49m\n\u001b[0;32m    142\u001b[0m \u001b[43m    \u001b[49m\u001b[43m)\u001b[49m\n\u001b[0;32m    143\u001b[0m     fs \u001b[38;5;241m=\u001b[39m \u001b[38;5;28;01mNone\u001b[39;00m\n\u001b[0;32m    144\u001b[0m     path_or_handle \u001b[38;5;241m=\u001b[39m handles\u001b[38;5;241m.\u001b[39mhandle\n",
      "File \u001b[1;32m~\\AppData\\Local\\Packages\\PythonSoftwareFoundation.Python.3.12_qbz5n2kfra8p0\\LocalCache\\local-packages\\Python312\\site-packages\\pandas\\io\\common.py:882\u001b[0m, in \u001b[0;36mget_handle\u001b[1;34m(path_or_buf, mode, encoding, compression, memory_map, is_text, errors, storage_options)\u001b[0m\n\u001b[0;32m    873\u001b[0m         handle \u001b[38;5;241m=\u001b[39m \u001b[38;5;28mopen\u001b[39m(\n\u001b[0;32m    874\u001b[0m             handle,\n\u001b[0;32m    875\u001b[0m             ioargs\u001b[38;5;241m.\u001b[39mmode,\n\u001b[1;32m   (...)\u001b[0m\n\u001b[0;32m    878\u001b[0m             newline\u001b[38;5;241m=\u001b[39m\u001b[38;5;124m\"\u001b[39m\u001b[38;5;124m\"\u001b[39m,\n\u001b[0;32m    879\u001b[0m         )\n\u001b[0;32m    880\u001b[0m     \u001b[38;5;28;01melse\u001b[39;00m:\n\u001b[0;32m    881\u001b[0m         \u001b[38;5;66;03m# Binary mode\u001b[39;00m\n\u001b[1;32m--> 882\u001b[0m         handle \u001b[38;5;241m=\u001b[39m \u001b[38;5;28;43mopen\u001b[39;49m\u001b[43m(\u001b[49m\u001b[43mhandle\u001b[49m\u001b[43m,\u001b[49m\u001b[43m \u001b[49m\u001b[43mioargs\u001b[49m\u001b[38;5;241;43m.\u001b[39;49m\u001b[43mmode\u001b[49m\u001b[43m)\u001b[49m\n\u001b[0;32m    883\u001b[0m     handles\u001b[38;5;241m.\u001b[39mappend(handle)\n\u001b[0;32m    885\u001b[0m \u001b[38;5;66;03m# Convert BytesIO or file objects passed with an encoding\u001b[39;00m\n",
      "\u001b[1;31mFileNotFoundError\u001b[0m: [Errno 2] No such file or directory: 'bible_data_moore.parquet'"
     ]
    }
   ],
   "source": [
    "import pandas as pd\n",
    "pd.read_parquet(output_dir).tail(5)"
   ]
  }
 ],
 "metadata": {
  "kernelspec": {
   "display_name": "Python 3",
   "language": "python",
   "name": "python3"
  },
  "language_info": {
   "codemirror_mode": {
    "name": "ipython",
    "version": 3
   },
   "file_extension": ".py",
   "mimetype": "text/x-python",
   "name": "python",
   "nbconvert_exporter": "python",
   "pygments_lexer": "ipython3",
   "version": "3.12.7"
  }
 },
 "nbformat": 4,
 "nbformat_minor": 2
}
