{
 "cells": [
  {
   "cell_type": "code",
   "execution_count": 1,
   "metadata": {},
   "outputs": [],
   "source": [
    "from jwsoup.text import scrape_single_page, scrape_multi_page\n",
    "from jwsoup.audio.scraper import download_audios"
   ]
  },
  {
   "cell_type": "code",
   "execution_count": 2,
   "metadata": {},
   "outputs": [
    {
     "data": {
      "text/plain": [
       "[('v1001001', '1 Sɩngr wakatẽ, Wẽnnaam naana saasã la tẽngã. +'),\n",
       " ('v1001002',\n",
       "  '2 Tẽngã ra pa tar yalẽ ye. A ra yaa vɩʋʋgo, tɩ lik ra be koomã sẽn zulmã zugu. La Wẽnnaam pãngã  ra fugda koomã zugu. +')]"
      ]
     },
     "execution_count": 2,
     "metadata": {},
     "output_type": "execute_result"
    }
   ],
   "source": [
    "\n",
    "url = \"https://www.jw.org/mos/d-s%E1%BA%BDn-yiisi/biible/nwt/books/S%C9%A9ngre/1/\"\n",
    "verses, next_url = scrape_single_page(url)\n",
    "verses[:2]"
   ]
  },
  {
   "cell_type": "code",
   "execution_count": 3,
   "metadata": {},
   "outputs": [
    {
     "name": "stderr",
     "output_type": "stream",
     "text": [
      "\u001b[32m2025-01-10 19:49:05.939\u001b[0m | \u001b[1mINFO    \u001b[0m | \u001b[36mjwsoup.text.scraper\u001b[0m:\u001b[36mscrape_multi_page\u001b[0m:\u001b[36m67\u001b[0m - \u001b[1mScraping https://www.jw.org/mos/d-s%E1%BA%BDn-yiisi/biible/nwt/books/S%C9%A9ngre/1/\u001b[0m\n",
      "\u001b[32m2025-01-10 19:49:17.662\u001b[0m | \u001b[1mINFO    \u001b[0m | \u001b[36mjwsoup.text.scraper\u001b[0m:\u001b[36mscrape_multi_page\u001b[0m:\u001b[36m67\u001b[0m - \u001b[1mScraping https://www.jw.org/mos/d-s%E1%BA%BDn-yiisi/biible/nwt/books/S%C9%A9ngre/2/\u001b[0m\n",
      "\u001b[32m2025-01-10 19:49:37.640\u001b[0m | \u001b[1mINFO    \u001b[0m | \u001b[36mjwsoup.text.scraper\u001b[0m:\u001b[36mscrape_multi_page\u001b[0m:\u001b[36m67\u001b[0m - \u001b[1mScraping https://www.jw.org/mos/d-s%E1%BA%BDn-yiisi/biible/nwt/books/S%C9%A9ngre/3/\u001b[0m\n",
      "\u001b[32m2025-01-10 19:49:55.355\u001b[0m | \u001b[1mINFO    \u001b[0m | \u001b[36mjwsoup.text.scraper\u001b[0m:\u001b[36mscrape_multi_page\u001b[0m:\u001b[36m67\u001b[0m - \u001b[1mScraping https://www.jw.org/mos/d-s%E1%BA%BDn-yiisi/biible/nwt/books/S%C9%A9ngre/4/\u001b[0m\n",
      "\u001b[32m2025-01-10 19:50:11.863\u001b[0m | \u001b[1mINFO    \u001b[0m | \u001b[36mjwsoup.text.scraper\u001b[0m:\u001b[36mscrape_multi_page\u001b[0m:\u001b[36m67\u001b[0m - \u001b[1mScraping https://www.jw.org/mos/d-s%E1%BA%BDn-yiisi/biible/nwt/books/S%C9%A9ngre/5/\u001b[0m\n",
      "\u001b[32m2025-01-10 19:50:26.957\u001b[0m | \u001b[1mINFO    \u001b[0m | \u001b[36mjwsoup.text.scraper\u001b[0m:\u001b[36mscrape_multi_page\u001b[0m:\u001b[36m77\u001b[0m - \u001b[1mScraping complete. Processed 5 pages.\u001b[0m\n"
     ]
    }
   ],
   "source": [
    "output_dir = \"bible_data_moore.parquet\"\n",
    "res = scrape_multi_page(url, output_dir=output_dir, max_pages=5, page_sep=\"books\")"
   ]
  },
  {
   "cell_type": "code",
   "execution_count": 4,
   "metadata": {},
   "outputs": [
    {
     "data": {
      "text/html": [
       "<div>\n",
       "<style scoped>\n",
       "    .dataframe tbody tr th:only-of-type {\n",
       "        vertical-align: middle;\n",
       "    }\n",
       "\n",
       "    .dataframe tbody tr th {\n",
       "        vertical-align: top;\n",
       "    }\n",
       "\n",
       "    .dataframe thead th {\n",
       "        text-align: right;\n",
       "    }\n",
       "</style>\n",
       "<table border=\"1\" class=\"dataframe\">\n",
       "  <thead>\n",
       "    <tr style=\"text-align: right;\">\n",
       "      <th></th>\n",
       "      <th>verse_id</th>\n",
       "      <th>verse_text</th>\n",
       "      <th>source_url</th>\n",
       "      <th>page</th>\n",
       "    </tr>\n",
       "  </thead>\n",
       "  <tbody>\n",
       "    <tr>\n",
       "      <th>135</th>\n",
       "      <td>v1005030</td>\n",
       "      <td>30 A Lamɛk sẽn dog a Nowe wã poore, a vɩɩmda y...</td>\n",
       "      <td>https://www.jw.org/mos/d-s%E1%BA%BDn-yiisi/bii...</td>\n",
       "      <td>Sɩngre/5</td>\n",
       "    </tr>\n",
       "    <tr>\n",
       "      <th>136</th>\n",
       "      <td>v1005031</td>\n",
       "      <td>31 Rẽnd a Lamɛk vɩɩmã tõr yɩɩ yʋʋm kobs-yopoe ...</td>\n",
       "      <td>https://www.jw.org/mos/d-s%E1%BA%BDn-yiisi/bii...</td>\n",
       "      <td>Sɩngre/5</td>\n",
       "    </tr>\n",
       "    <tr>\n",
       "      <th>137</th>\n",
       "      <td>v1005032</td>\n",
       "      <td>32 A Nowe taa yʋʋm kobs-nu. Rẽ poore, a roga a...</td>\n",
       "      <td>https://www.jw.org/mos/d-s%E1%BA%BDn-yiisi/bii...</td>\n",
       "      <td>Sɩngre/5</td>\n",
       "    </tr>\n",
       "  </tbody>\n",
       "</table>\n",
       "</div>"
      ],
      "text/plain": [
       "     verse_id                                         verse_text  \\\n",
       "135  v1005030  30 A Lamɛk sẽn dog a Nowe wã poore, a vɩɩmda y...   \n",
       "136  v1005031  31 Rẽnd a Lamɛk vɩɩmã tõr yɩɩ yʋʋm kobs-yopoe ...   \n",
       "137  v1005032  32 A Nowe taa yʋʋm kobs-nu. Rẽ poore, a roga a...   \n",
       "\n",
       "                                            source_url      page  \n",
       "135  https://www.jw.org/mos/d-s%E1%BA%BDn-yiisi/bii...  Sɩngre/5  \n",
       "136  https://www.jw.org/mos/d-s%E1%BA%BDn-yiisi/bii...  Sɩngre/5  \n",
       "137  https://www.jw.org/mos/d-s%E1%BA%BDn-yiisi/bii...  Sɩngre/5  "
      ]
     },
     "execution_count": 4,
     "metadata": {},
     "output_type": "execute_result"
    }
   ],
   "source": [
    "import pandas as pd\n",
    "pd.read_parquet(output_dir).tail(3)"
   ]
  },
  {
   "cell_type": "code",
   "execution_count": 5,
   "metadata": {},
   "outputs": [
    {
     "name": "stderr",
     "output_type": "stream",
     "text": [
      "\u001b[32m2025-01-10 19:50:27.128\u001b[0m | \u001b[1mINFO    \u001b[0m | \u001b[36mjwsoup.audio.scraper\u001b[0m:\u001b[36mdownload_audios\u001b[0m:\u001b[36m14\u001b[0m - \u001b[1mTraitement de la page : https://www.jw.org/mos/d-s%E1%BA%BDn-yiisi/biible/nwt/books/yikri\u001b[0m\n",
      "\u001b[32m2025-01-10 19:50:47.824\u001b[0m | \u001b[1mINFO    \u001b[0m | \u001b[36mjwsoup.audio.scraper\u001b[0m:\u001b[36mdownload_audios\u001b[0m:\u001b[36m14\u001b[0m - \u001b[1mTraitement de la page : https://www.jw.org/mos/d-s%E1%BA%BDn-yiisi/biible/nwt/books/yikri/1/\u001b[0m\n",
      "\u001b[32m2025-01-10 19:50:58.613\u001b[0m | \u001b[1mINFO    \u001b[0m | \u001b[36mjwsoup.audio.downloader\u001b[0m:\u001b[36mdownload_audio\u001b[0m:\u001b[36m20\u001b[0m - \u001b[1mAudio téléchargé avec succès : audio_files\\yikri\\page_1.mp3\u001b[0m\n",
      "\u001b[32m2025-01-10 19:50:58.616\u001b[0m | \u001b[1mINFO    \u001b[0m | \u001b[36mjwsoup.audio.scraper\u001b[0m:\u001b[36mdownload_audios\u001b[0m:\u001b[36m14\u001b[0m - \u001b[1mTraitement de la page : https://www.jw.org/mos/d-s%E1%BA%BDn-yiisi/biible/nwt/books/yikri/2/\u001b[0m\n",
      "\u001b[32m2025-01-10 19:51:08.300\u001b[0m | \u001b[1mINFO    \u001b[0m | \u001b[36mjwsoup.audio.downloader\u001b[0m:\u001b[36mdownload_audio\u001b[0m:\u001b[36m20\u001b[0m - \u001b[1mAudio téléchargé avec succès : audio_files\\yikri\\page_2.mp3\u001b[0m\n",
      "\u001b[32m2025-01-10 19:51:08.304\u001b[0m | \u001b[1mINFO    \u001b[0m | \u001b[36mjwsoup.audio.scraper\u001b[0m:\u001b[36mdownload_audios\u001b[0m:\u001b[36m24\u001b[0m - \u001b[1mTéléchargement terminé. Nombre de pages traitées : 3\u001b[0m\n"
     ]
    }
   ],
   "source": [
    "from jwsoup.audio.scraper import download_audios\n",
    "start_url = \"https://www.jw.org/mos/d-s%E1%BA%BDn-yiisi/biible/nwt/books/S%C9%A9ngre/1/\"\n",
    "output_dir = \"audio_files\"\n",
    "download_audios(start_url, output_dir,100000000000)"
   ]
  }
 ],
 "metadata": {
  "kernelspec": {
   "display_name": ".env",
   "language": "python",
   "name": "python3"
  },
  "language_info": {
   "codemirror_mode": {
    "name": "ipython",
    "version": 3
   },
   "file_extension": ".py",
   "mimetype": "text/x-python",
   "name": "python",
   "nbconvert_exporter": "python",
   "pygments_lexer": "ipython3",
   "version": "3.12.5"
  }
 },
 "nbformat": 4,
 "nbformat_minor": 2
}
