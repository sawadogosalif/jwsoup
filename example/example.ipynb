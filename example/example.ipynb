{
 "cells": [
  {
   "cell_type": "code",
   "execution_count": 1,
   "metadata": {},
   "outputs": [],
   "source": [
    "from jwsoup.text import scrape_single_page, scrape_multi_page"
   ]
  },
  {
   "cell_type": "code",
   "execution_count": 2,
   "metadata": {},
   "outputs": [
    {
     "data": {
      "text/plain": [
       "[('v1001001', '1 Sɩngr wakatẽ, Wẽnnaam naana saasã la tẽngã. +'),\n",
       " ('v1001002',\n",
       "  '2 Tẽngã ra pa tar yalẽ ye. A ra yaa vɩʋʋgo, tɩ lik ra be koomã sẽn zulmã * zugu. + La Wẽnnaam pãngã  ra fugda koomã zugu. +')]"
      ]
     },
     "execution_count": 2,
     "metadata": {},
     "output_type": "execute_result"
    }
   ],
   "source": [
    "\n",
    "url = \"https://www.jw.org/mos/d-s%E1%BA%BDn-yiisi/biible/nwt/books/S%C9%A9ngre/1/\"\n",
    "verses, next_url = scrape_single_page(url)\n",
    "verses[:2]"
   ]
  },
  {
   "cell_type": "code",
   "execution_count": 3,
   "metadata": {},
   "outputs": [
    {
     "name": "stderr",
     "output_type": "stream",
     "text": [
      "\u001b[32m2024-11-23 15:57:57.582\u001b[0m | \u001b[1mINFO    \u001b[0m | \u001b[36mjwsoup.text.scraper\u001b[0m:\u001b[36mscrape_multi_page\u001b[0m:\u001b[36m59\u001b[0m - \u001b[1mScraping https://www.jw.org/mos/d-s%E1%BA%BDn-yiisi/biible/nwt/books/S%C9%A9ngre/1/\u001b[0m\n",
      "\u001b[32m2024-11-23 15:58:06.358\u001b[0m | \u001b[1mINFO    \u001b[0m | \u001b[36mjwsoup.text.scraper\u001b[0m:\u001b[36mscrape_multi_page\u001b[0m:\u001b[36m59\u001b[0m - \u001b[1mScraping https://www.jw.org/mos/d-s%E1%BA%BDn-yiisi/biible/nwt/books/S%C9%A9ngre/2/\u001b[0m\n",
      "\u001b[32m2024-11-23 15:58:17.747\u001b[0m | \u001b[1mINFO    \u001b[0m | \u001b[36mjwsoup.text.scraper\u001b[0m:\u001b[36mscrape_multi_page\u001b[0m:\u001b[36m59\u001b[0m - \u001b[1mScraping https://www.jw.org/mos/d-s%E1%BA%BDn-yiisi/biible/nwt/books/S%C9%A9ngre/3/\u001b[0m\n",
      "\u001b[32m2024-11-23 15:58:28.396\u001b[0m | \u001b[1mINFO    \u001b[0m | \u001b[36mjwsoup.text.scraper\u001b[0m:\u001b[36mscrape_multi_page\u001b[0m:\u001b[36m59\u001b[0m - \u001b[1mScraping https://www.jw.org/mos/d-s%E1%BA%BDn-yiisi/biible/nwt/books/S%C9%A9ngre/4/\u001b[0m\n",
      "\u001b[32m2024-11-23 15:58:39.079\u001b[0m | \u001b[1mINFO    \u001b[0m | \u001b[36mjwsoup.text.scraper\u001b[0m:\u001b[36mscrape_multi_page\u001b[0m:\u001b[36m59\u001b[0m - \u001b[1mScraping https://www.jw.org/mos/d-s%E1%BA%BDn-yiisi/biible/nwt/books/S%C9%A9ngre/5/\u001b[0m\n",
      "\u001b[32m2024-11-23 15:58:49.897\u001b[0m | \u001b[1mINFO    \u001b[0m | \u001b[36mjwsoup.text.scraper\u001b[0m:\u001b[36mscrape_multi_page\u001b[0m:\u001b[36m69\u001b[0m - \u001b[1mScraping complete. Processed 5 pages.\u001b[0m\n"
     ]
    }
   ],
   "source": [
    "output_dir = \"bible_data_moore.parquet\"\n",
    "res = scrape_multi_page(url, output_dir=output_dir, max_pages=5, page_sep=\"books\")"
   ]
  },
  {
   "cell_type": "code",
   "execution_count": 4,
   "metadata": {},
   "outputs": [
    {
     "data": {
      "text/html": [
       "<div>\n",
       "<style scoped>\n",
       "    .dataframe tbody tr th:only-of-type {\n",
       "        vertical-align: middle;\n",
       "    }\n",
       "\n",
       "    .dataframe tbody tr th {\n",
       "        vertical-align: top;\n",
       "    }\n",
       "\n",
       "    .dataframe thead th {\n",
       "        text-align: right;\n",
       "    }\n",
       "</style>\n",
       "<table border=\"1\" class=\"dataframe\">\n",
       "  <thead>\n",
       "    <tr style=\"text-align: right;\">\n",
       "      <th></th>\n",
       "      <th>verse_id</th>\n",
       "      <th>verse_text</th>\n",
       "      <th>source_url</th>\n",
       "      <th>page</th>\n",
       "    </tr>\n",
       "  </thead>\n",
       "  <tbody>\n",
       "    <tr>\n",
       "      <th>135</th>\n",
       "      <td>v1005030</td>\n",
       "      <td>30 A Lamɛk sẽn dog a Nowe wã poore, a vɩɩmda y...</td>\n",
       "      <td>https://www.jw.org/mos/d-s%E1%BA%BDn-yiisi/bii...</td>\n",
       "      <td>Sɩngre/5</td>\n",
       "    </tr>\n",
       "    <tr>\n",
       "      <th>136</th>\n",
       "      <td>v1005031</td>\n",
       "      <td>31 Rẽnd a Lamɛk vɩɩmã tõr yɩɩ yʋʋm kobs-yopoe ...</td>\n",
       "      <td>https://www.jw.org/mos/d-s%E1%BA%BDn-yiisi/bii...</td>\n",
       "      <td>Sɩngre/5</td>\n",
       "    </tr>\n",
       "    <tr>\n",
       "      <th>137</th>\n",
       "      <td>v1005032</td>\n",
       "      <td>32 A Nowe taa yʋʋm kobs-nu. Rẽ poore, a roga a...</td>\n",
       "      <td>https://www.jw.org/mos/d-s%E1%BA%BDn-yiisi/bii...</td>\n",
       "      <td>Sɩngre/5</td>\n",
       "    </tr>\n",
       "  </tbody>\n",
       "</table>\n",
       "</div>"
      ],
      "text/plain": [
       "     verse_id                                         verse_text  \\\n",
       "135  v1005030  30 A Lamɛk sẽn dog a Nowe wã poore, a vɩɩmda y...   \n",
       "136  v1005031  31 Rẽnd a Lamɛk vɩɩmã tõr yɩɩ yʋʋm kobs-yopoe ...   \n",
       "137  v1005032  32 A Nowe taa yʋʋm kobs-nu. Rẽ poore, a roga a...   \n",
       "\n",
       "                                            source_url      page  \n",
       "135  https://www.jw.org/mos/d-s%E1%BA%BDn-yiisi/bii...  Sɩngre/5  \n",
       "136  https://www.jw.org/mos/d-s%E1%BA%BDn-yiisi/bii...  Sɩngre/5  \n",
       "137  https://www.jw.org/mos/d-s%E1%BA%BDn-yiisi/bii...  Sɩngre/5  "
      ]
     },
     "execution_count": 4,
     "metadata": {},
     "output_type": "execute_result"
    }
   ],
   "source": [
    "import pandas as pd\n",
    "pd.read_parquet(output_dir).tail(3)"
   ]
  }
 ],
 "metadata": {
  "kernelspec": {
   "display_name": ".env",
   "language": "python",
   "name": "python3"
  },
  "language_info": {
   "codemirror_mode": {
    "name": "ipython",
    "version": 3
   },
   "file_extension": ".py",
   "mimetype": "text/x-python",
   "name": "python",
   "nbconvert_exporter": "python",
   "pygments_lexer": "ipython3",
   "version": "3.12.5"
  }
 },
 "nbformat": 4,
 "nbformat_minor": 2
}
